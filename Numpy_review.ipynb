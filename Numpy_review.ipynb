{
  "nbformat": 4,
  "nbformat_minor": 0,
  "metadata": {
    "colab": {
      "provenance": []
    },
    "kernelspec": {
      "name": "python3",
      "display_name": "Python 3"
    },
    "language_info": {
      "name": "python"
    }
  },
  "cells": [
    {
      "cell_type": "markdown",
      "source": [
        "#Numpy\n",
        "numpy review  \n",
        "If you don’t have numpy, then first you need to install it. You can install it in two days:  \n",
        "Using pip : **pip install numpy**  \n",
        "Using Conda:\n",
        "First, activate your anaconda environment and then use the following command:\n",
        "**conda install -c anaconda numpy**"
      ],
      "metadata": {
        "id": "5rJ4KXCQK0JQ"
      }
    },
    {
      "cell_type": "code",
      "execution_count": 1,
      "metadata": {
        "id": "6e7Lckal2rAe"
      },
      "outputs": [],
      "source": [
        "#Before doing any operations using numpy, we need to import it.\n",
        "import numpy as np"
      ]
    },
    {
      "cell_type": "markdown",
      "source": [
        "**Scalar**   \n",
        "Let’s start from the very basic and learn how to create scalar values of numpy class.  \n",
        "For more detail, take a look at the documentation — https://numpy.org/doc/stable/reference/arrays.scalars.html#\n",
        "\n",
        "\n"
      ],
      "metadata": {
        "id": "NpRKOxe9bSaY"
      }
    },
    {
      "cell_type": "code",
      "source": [
        "# int type\n",
        "\n",
        "python_int = 2\n",
        "numpy_int = np.int32(2)\n",
        "print(type(python_int)) # ---> <class 'int'>\n",
        "print(type(numpy_int)) # ---> <class 'numpy.int32'>\n",
        "\n",
        "# float type\n",
        "\n",
        "python_float = 2.5\n",
        "numpy_float = np.float32(2.5)\n",
        "print(type(python_float)) # ---> <class 'float'>\n",
        "print(type(numpy_float)) # ---> <class 'numpy.float32'>\n"
      ],
      "metadata": {
        "colab": {
          "base_uri": "https://localhost:8080/"
        },
        "id": "zwRzOTesbYII",
        "outputId": "4e6f445a-10cc-44aa-87c3-09652013cbab"
      },
      "execution_count": 2,
      "outputs": [
        {
          "output_type": "stream",
          "name": "stdout",
          "text": [
            "<class 'int'>\n",
            "<class 'numpy.int32'>\n",
            "<class 'float'>\n",
            "<class 'numpy.float32'>\n"
          ]
        }
      ]
    },
    {
      "cell_type": "markdown",
      "source": [
        "**1-D Array**  \n",
        "Let’s now create a 1-D array using numpy’s array() method.\n",
        "\n",
        "\n"
      ],
      "metadata": {
        "id": "9mQr-PoGbqMO"
      }
    },
    {
      "cell_type": "code",
      "source": [
        "# creating an 1-D array of int type\n",
        "\n",
        "one_d_array_int = np.array([1,2,3])\n",
        "print(one_d_array_int) # ---> output : [1 2 3]\n",
        "\n",
        "# creating an 1-D array of float type\n",
        "\n",
        "one_d_array_float = np.array([1.5,2.5,3.5])\n",
        "print(one_d_array_float) # ---> output : [1.5 2.5 3.5]\n"
      ],
      "metadata": {
        "colab": {
          "base_uri": "https://localhost:8080/"
        },
        "id": "fp-zCS7Lb5jm",
        "outputId": "697b6c3f-ce69-4271-cd7c-80a8b0cf9665"
      },
      "execution_count": 3,
      "outputs": [
        {
          "output_type": "stream",
          "name": "stdout",
          "text": [
            "[1 2 3]\n",
            "[1.5 2.5 3.5]\n"
          ]
        }
      ]
    },
    {
      "cell_type": "markdown",
      "source": [
        "**2-D Array**  \n",
        "Let’s now create a 2-D array using numpy’s array() method."
      ],
      "metadata": {
        "id": "06qSUmAJcPkL"
      }
    },
    {
      "cell_type": "code",
      "source": [
        "# 2-D int array\n",
        "\n",
        "two_d_array_int = np.array([\n",
        "                [1,2,3],\n",
        "                [4,5,6],\n",
        "                [7,8,9]\n",
        "               ])\n",
        "print(two_d_array_int) # ---> [[1, 2, 3], [4, 5, 6], [7, 8, 9]]\n",
        "\n",
        "# 2-D float array\n",
        "\n",
        "two_d_array_float= np.array([\n",
        "                [1.1,2.1,3.0],\n",
        "                [4.1,5.1,6.1],\n",
        "                [7.1,8.1,9.1]\n",
        "               ])\n",
        "print(two_d_array_float) # ---> [[1.1, 2.1, 3.0], [4.1, 5.1, 6.1], [7.1, 8.1, 9.1]]\n"
      ],
      "metadata": {
        "id": "sEaAgQJEMNhY",
        "colab": {
          "base_uri": "https://localhost:8080/"
        },
        "outputId": "7eaf1944-8a28-4026-90ab-52433536491c"
      },
      "execution_count": 4,
      "outputs": [
        {
          "output_type": "stream",
          "name": "stdout",
          "text": [
            "[[1 2 3]\n",
            " [4 5 6]\n",
            " [7 8 9]]\n",
            "[[1.1 2.1 3. ]\n",
            " [4.1 5.1 6.1]\n",
            " [7.1 8.1 9.1]]\n"
          ]
        }
      ]
    },
    {
      "cell_type": "markdown",
      "source": [
        "**Get The Dimension of an Array**  \n",
        "Now, let’s learn how do you get the dimension of the any array."
      ],
      "metadata": {
        "id": "LryEZz6SchHY"
      }
    },
    {
      "cell_type": "code",
      "source": [
        "# If the array is a 1-D array, then it'll return 1\n",
        "print(one_d_array_int.ndim) # ---> output : 1\n",
        "\n",
        "# If the array is a 2-D array, then it'l return 2\n",
        "print(two_d_array_int.ndim) # ---> output : 2\n"
      ],
      "metadata": {
        "colab": {
          "base_uri": "https://localhost:8080/"
        },
        "id": "BUm6OSZNcl1a",
        "outputId": "9c50213c-bb6a-4d98-80ed-6147d049f94b"
      },
      "execution_count": 5,
      "outputs": [
        {
          "output_type": "stream",
          "name": "stdout",
          "text": [
            "1\n",
            "2\n"
          ]
        }
      ]
    },
    {
      "cell_type": "markdown",
      "source": [
        "Get The Shape of an Array"
      ],
      "metadata": {
        "id": "r_hv81Ipc0H7"
      }
    },
    {
      "cell_type": "code",
      "source": [
        "\n",
        "print(one_d_array_int.shape) # ---> output : (3,)\n",
        "\n",
        "\n",
        "print(two_d_array_int.shape) # ---> output : (3, 3)\n"
      ],
      "metadata": {
        "colab": {
          "base_uri": "https://localhost:8080/"
        },
        "id": "Qorys2_Mc3cL",
        "outputId": "29add075-5972-40a8-f8ee-b283b753a8e9"
      },
      "execution_count": 6,
      "outputs": [
        {
          "output_type": "stream",
          "name": "stdout",
          "text": [
            "(3,)\n",
            "(3, 3)\n"
          ]
        }
      ]
    },
    {
      "cell_type": "markdown",
      "source": [
        "As, the one_d_array_int is basically a vector, it returns the shape of a vector, whereas two_d_array_int is a matrix which has 3 rows and 3 columns and that’s why it returns the shape as (3, 3)."
      ],
      "metadata": {
        "id": "4vGicAkZdJRL"
      }
    },
    {
      "cell_type": "markdown",
      "source": [
        "**Get the Data Type of an Array**"
      ],
      "metadata": {
        "id": "Q7EDOLn3dT3V"
      }
    },
    {
      "cell_type": "markdown",
      "source": [
        "By default, it’s int32 and there are different size of int in numpy that you can use to optimise your space consumption."
      ],
      "metadata": {
        "id": "xYvk5EeYdrm6"
      }
    },
    {
      "cell_type": "code",
      "source": [
        "print(one_d_array_int.dtype) # ---> output : dtype('int32')"
      ],
      "metadata": {
        "colab": {
          "base_uri": "https://localhost:8080/"
        },
        "id": "lnJXDV_uc5Wx",
        "outputId": "641c017a-c908-44b3-f106-eac68189564d"
      },
      "execution_count": 7,
      "outputs": [
        {
          "output_type": "stream",
          "name": "stdout",
          "text": [
            "int64\n"
          ]
        }
      ]
    },
    {
      "cell_type": "markdown",
      "source": [
        "**Manipulating Elements of an Array**  \n",
        "Let’s create a new array and then we will perform operations on this new array."
      ],
      "metadata": {
        "id": "Io4EnF0XhPrh"
      }
    },
    {
      "cell_type": "code",
      "source": [
        "a = np.array([[1,2,3,4,5,6,7],[8,9,10,11,12,13,14]])\n",
        "print(a) # ---> output : [[ 1  2  3  4  5  6  7]\n",
        "#                         [ 8  9 10 11 12 13 14]]\n"
      ],
      "metadata": {
        "colab": {
          "base_uri": "https://localhost:8080/"
        },
        "id": "Euw2TwPLdchT",
        "outputId": "7d2a04a5-6213-4e7c-cdfb-4b8e24f78e23"
      },
      "execution_count": 8,
      "outputs": [
        {
          "output_type": "stream",
          "name": "stdout",
          "text": [
            "[[ 1  2  3  4  5  6  7]\n",
            " [ 8  9 10 11 12 13 14]]\n"
          ]
        }
      ]
    },
    {
      "cell_type": "markdown",
      "source": [
        "**Access a Specific Element**  \n",
        "Let’s say we want to access first rows’ third element."
      ],
      "metadata": {
        "id": "kADEYEyuhbLi"
      }
    },
    {
      "cell_type": "code",
      "source": [
        "# accessing 1st row's 3rd element\n",
        "print(a[0,2]) # ---> output : 3\n"
      ],
      "metadata": {
        "colab": {
          "base_uri": "https://localhost:8080/"
        },
        "id": "FIiCfaIfhdu0",
        "outputId": "b9585ad9-75d4-4d0f-bc1c-a567237c6fcb"
      },
      "execution_count": 9,
      "outputs": [
        {
          "output_type": "stream",
          "name": "stdout",
          "text": [
            "3\n"
          ]
        }
      ]
    },
    {
      "cell_type": "markdown",
      "source": [
        "In numpy to access a specific element then, we first need to specify the row and then the column.\n",
        "Remember, numpy also follows the 0-based indexing and due to this if we want to get the first row, we need to write 0 and not 1 and same goes for the column value if we needed the third element, then we’ll write 2 and not 3."
      ],
      "metadata": {
        "id": "lMNrtKBBhiZ5"
      }
    },
    {
      "cell_type": "markdown",
      "source": [
        "**Access only a specific row or column**"
      ],
      "metadata": {
        "id": "Efo-MyqfiEVw"
      }
    },
    {
      "cell_type": "code",
      "source": [
        "# accessing only the first row\n",
        "print(a[0,:]) # ---> output : [1 2 3 4 5 6 7]\n",
        "\n",
        "# accessing only the second column\n",
        "print(a[:,1]) # ---> output : [2 9]"
      ],
      "metadata": {
        "colab": {
          "base_uri": "https://localhost:8080/"
        },
        "id": "VvUJRdToiG5Q",
        "outputId": "a7eb847c-2a7d-4ee2-8cb8-0b5ed843d72e"
      },
      "execution_count": 10,
      "outputs": [
        {
          "output_type": "stream",
          "name": "stdout",
          "text": [
            "[1 2 3 4 5 6 7]\n",
            "[2 9]\n"
          ]
        }
      ]
    },
    {
      "cell_type": "markdown",
      "source": [
        "**Access elements with skip steps**"
      ],
      "metadata": {
        "id": "dmzLfwZpiMUJ"
      }
    },
    {
      "cell_type": "code",
      "source": [
        "# [startindex:endindex:stepsize]\n",
        "print(a[0, 1:-1:2]) # ---> output : [2 4 6]\n"
      ],
      "metadata": {
        "colab": {
          "base_uri": "https://localhost:8080/"
        },
        "id": "SdFOYReFiMC_",
        "outputId": "b6a74398-7ea5-4b65-9303-1ac82c1933ea"
      },
      "execution_count": 11,
      "outputs": [
        {
          "output_type": "stream",
          "name": "stdout",
          "text": [
            "[2 4 6]\n"
          ]
        }
      ]
    },
    {
      "cell_type": "markdown",
      "source": [
        "Here, you are accessing first row’s columns from 2nd column to the last column by accessing every 2nd column."
      ],
      "metadata": {
        "id": "fD9xz474ism_"
      }
    },
    {
      "cell_type": "markdown",
      "source": [
        "**Changing element’s value**"
      ],
      "metadata": {
        "id": "RLjD44w2i7Y9"
      }
    },
    {
      "cell_type": "code",
      "source": [
        "a[0,2] = 99\n",
        "print(a) # ---> output : [[ 1  2 99  4  5  6  7]\n",
        "#                         [ 8  9 10 11 12 13 14]]\n"
      ],
      "metadata": {
        "colab": {
          "base_uri": "https://localhost:8080/"
        },
        "id": "n1qzFjsZi4B7",
        "outputId": "cb0e6f21-b8d4-4fa1-c1b8-f4e3fc32c529"
      },
      "execution_count": 12,
      "outputs": [
        {
          "output_type": "stream",
          "name": "stdout",
          "text": [
            "[[ 1  2 99  4  5  6  7]\n",
            " [ 8  9 10 11 12 13 14]]\n"
          ]
        }
      ]
    },
    {
      "cell_type": "markdown",
      "source": [
        "Here, you first assigned the value 99 to the first row’s third column."
      ],
      "metadata": {
        "id": "X4W7Mbc8kCvQ"
      }
    },
    {
      "cell_type": "markdown",
      "source": [
        "**Special Arrays in Numpy**"
      ],
      "metadata": {
        "id": "UcUNGe0AkGZd"
      }
    },
    {
      "cell_type": "markdown",
      "source": [
        "**Zero Matrix**"
      ],
      "metadata": {
        "id": "2ydOGugrkJiw"
      }
    },
    {
      "cell_type": "code",
      "source": [
        "# creating a zero matrix of shape(2,3)\n",
        "\n",
        "print(np.zeros((2,3))) # ---> output : [[0. 0. 0.]\n",
        " #                                      [0. 0. 0.]\n",
        " #                                      [0. 0. 0.]]\n"
      ],
      "metadata": {
        "colab": {
          "base_uri": "https://localhost:8080/"
        },
        "id": "6ckI1zK7kJEW",
        "outputId": "355d6c22-ab19-4d15-9098-a29118f36265"
      },
      "execution_count": 13,
      "outputs": [
        {
          "output_type": "stream",
          "name": "stdout",
          "text": [
            "[[0. 0. 0.]\n",
            " [0. 0. 0.]]\n"
          ]
        }
      ]
    },
    {
      "cell_type": "markdown",
      "source": [
        "Here, 2 is the number of rows and 3 is the number of columns."
      ],
      "metadata": {
        "id": "3AnalpU-kPxy"
      }
    },
    {
      "cell_type": "markdown",
      "source": [
        "**One Matrix**"
      ],
      "metadata": {
        "id": "WsgjU6v8kUX1"
      }
    },
    {
      "cell_type": "code",
      "source": [
        "# All 1s matrix\n",
        "print(np.ones((3,2,2))) # ---> output : [[[1. 1.]\n",
        "#                                        [1. 1.]]\n",
        "#\n",
        "#                                        [[1. 1.]\n",
        "#                                         [1. 1.]]\n",
        "#\n",
        "#                                        [[1. 1.]\n",
        "#                                         [1. 1.]]]\n",
        "\n",
        "# creating ones matrix int type\n",
        "print(np.ones((3,2,2), dtype='int32')) # ---> output : [[[1 1]\n",
        "#                                        [1 1]]\n",
        "#\n",
        "#                                        [[1 1]\n",
        "#                                         [1 1]]\n",
        "#\n",
        "#                                        [[1 1]\n",
        "#                                         [1 1]]]\n"
      ],
      "metadata": {
        "colab": {
          "base_uri": "https://localhost:8080/"
        },
        "id": "49GjH9LLkGI6",
        "outputId": "9609346d-aa76-4a86-fb20-e23304466105"
      },
      "execution_count": 14,
      "outputs": [
        {
          "output_type": "stream",
          "name": "stdout",
          "text": [
            "[[[1. 1.]\n",
            "  [1. 1.]]\n",
            "\n",
            " [[1. 1.]\n",
            "  [1. 1.]]\n",
            "\n",
            " [[1. 1.]\n",
            "  [1. 1.]]]\n",
            "[[[1 1]\n",
            "  [1 1]]\n",
            "\n",
            " [[1 1]\n",
            "  [1 1]]\n",
            "\n",
            " [[1 1]\n",
            "  [1 1]]]\n"
          ]
        }
      ]
    },
    {
      "cell_type": "markdown",
      "source": [
        "Here, you are creating a matrix of one’s. If you don’t specify any data type then it’ll by default generate float type elements."
      ],
      "metadata": {
        "id": "RFbLG7vrkcEb"
      }
    },
    {
      "cell_type": "markdown",
      "source": [
        "**Random Array**"
      ],
      "metadata": {
        "id": "AvLYVKAekf1J"
      }
    },
    {
      "cell_type": "markdown",
      "source": [
        "If you want to have an array having random values of a specific shape, then you can use np.random.rand() method."
      ],
      "metadata": {
        "id": "0yO7JwYckjIi"
      }
    },
    {
      "cell_type": "code",
      "source": [
        "print(np.random.rand(3,3)) # ---> output : [[0.10671372 0.31133182 0.56572354]\n",
        "#                                           [0.34792672 0.88867917 0.25310353]\n",
        "#                                           [0.70052117 0.53243035 0.67948057]]\n"
      ],
      "metadata": {
        "colab": {
          "base_uri": "https://localhost:8080/"
        },
        "id": "FwfYlBnyiuSR",
        "outputId": "1adb983e-41df-4816-fc29-56fd5a6e9d61"
      },
      "execution_count": 15,
      "outputs": [
        {
          "output_type": "stream",
          "name": "stdout",
          "text": [
            "[[0.65834789 0.58921297 0.61333099]\n",
            " [0.79513612 0.18858509 0.11406644]\n",
            " [0.1617224  0.79901545 0.52768021]]\n"
          ]
        }
      ]
    },
    {
      "cell_type": "markdown",
      "source": [
        "**Random Array ( Only Integer Values )**"
      ],
      "metadata": {
        "id": "GUbL_KtJksAX"
      }
    },
    {
      "cell_type": "markdown",
      "source": [
        "If you want to have an array having random int values of a specific shape, then you can use np.random.randint() method."
      ],
      "metadata": {
        "id": "eX_mGENskwvY"
      }
    },
    {
      "cell_type": "code",
      "source": [
        "# np.random.randint(start_value,end_value,size)\n",
        "\n",
        "print(np.random.randint(-1,5, size=(3,3))) # ---> output : [[0 -1 2]\n",
        "#                                                           [4 2 1]\n",
        "#                                                           [4 4 0]]"
      ],
      "metadata": {
        "colab": {
          "base_uri": "https://localhost:8080/"
        },
        "id": "WiL1r0mdkt7v",
        "outputId": "4d16eb7b-aace-4725-af34-069b31af69e7"
      },
      "execution_count": 16,
      "outputs": [
        {
          "output_type": "stream",
          "name": "stdout",
          "text": [
            "[[-1  3  4]\n",
            " [-1  2  0]\n",
            " [ 1  0  3]]\n"
          ]
        }
      ]
    },
    {
      "cell_type": "markdown",
      "source": [
        "start_value is inclusive that’s why -1 is there in the output array.\n",
        "\n",
        "end_value is exclusive that’s why there is no 5 in the output array.\n",
        "\n",
        "If you don’t mention the start_value, then the default start value would be 0. You have to mention the end_value.\n"
      ],
      "metadata": {
        "id": "fnWFL75Sk1t_"
      }
    },
    {
      "cell_type": "markdown",
      "source": [
        "**Identity Matrix**  \n",
        "If you want to create an Identiity matrix, then you can use np.identity() method."
      ],
      "metadata": {
        "id": "gwacTYARpOF2"
      }
    },
    {
      "cell_type": "code",
      "source": [
        "print(np.identity(3)) # ---> output : [[1. 0. 0.]\n",
        "#                                      [0. 1. 0.]\n",
        "#                                      [0. 0. 1.]]\n",
        "#You have to mention the number_of_dimensions."
      ],
      "metadata": {
        "colab": {
          "base_uri": "https://localhost:8080/"
        },
        "id": "TM8MTI7lm_Ip",
        "outputId": "77f77b0b-75a8-4340-cbf8-dda69872e3d2"
      },
      "execution_count": 17,
      "outputs": [
        {
          "output_type": "stream",
          "name": "stdout",
          "text": [
            "[[1. 0. 0.]\n",
            " [0. 1. 0.]\n",
            " [0. 0. 1.]]\n"
          ]
        }
      ]
    },
    {
      "cell_type": "markdown",
      "source": [
        "**Transposing Array**"
      ],
      "metadata": {
        "id": "ys0u00PJqR8p"
      }
    },
    {
      "cell_type": "code",
      "source": [
        "a = np.random.randint(-1,5, size = (2,3)) # creating a random int array\n",
        "print(a)                                  # output : [[ 2 -1  1]\n",
        "                                          #           [ 0  1  1]]\n",
        "\n",
        "print(a.T)                                # output : [[ 2  0]\n",
        "                                          #           [-1  1]\n",
        "                                          #           [ 1  1]]\n"
      ],
      "metadata": {
        "colab": {
          "base_uri": "https://localhost:8080/"
        },
        "id": "Kve8ppWvqjgB",
        "outputId": "b63b1624-9570-4c04-b895-28c044acd64c"
      },
      "execution_count": 18,
      "outputs": [
        {
          "output_type": "stream",
          "name": "stdout",
          "text": [
            "[[4 0 2]\n",
            " [1 3 0]]\n",
            "[[4 1]\n",
            " [0 3]\n",
            " [2 0]]\n"
          ]
        }
      ]
    },
    {
      "cell_type": "markdown",
      "source": [
        "**Reshape Array**  \n",
        "If you want to change the shape of the array you can use reshape() method."
      ],
      "metadata": {
        "id": "Nxg8RJK5qzmB"
      }
    },
    {
      "cell_type": "code",
      "source": [
        "a = np.random.randint(-1,5, size = (2,3)) # creating a random int array\n",
        "print(a)                                  # output : [[ 2 -1  1]\n",
        "                                          #           [ 0  1  1]]\n",
        "\n",
        "print(a.reshape(3,2))                     # output : [[ 2  0]\n",
        "                                          #           [-1  1]\n",
        "                                          #           [ 1  1]]\n",
        "\n",
        "print(a.reshape(1,6))                     # output : [[1 2 3 2 2 2]]\n",
        "\n",
        "#Note : You can’t reshape (2,3) array to (3,3) as the original array has 6 cells while the new shape you want to have has 9 cells."
      ],
      "metadata": {
        "colab": {
          "base_uri": "https://localhost:8080/"
        },
        "id": "HAwj1PA8q3rX",
        "outputId": "17902986-f1d8-48d8-9012-1b4a80425648"
      },
      "execution_count": 19,
      "outputs": [
        {
          "output_type": "stream",
          "name": "stdout",
          "text": [
            "[[ 1  2 -1]\n",
            " [-1  1  0]]\n",
            "[[ 1  2]\n",
            " [-1 -1]\n",
            " [ 1  0]]\n",
            "[[ 1  2 -1 -1  1  0]]\n"
          ]
        }
      ]
    },
    {
      "cell_type": "code",
      "source": [
        "b = np.array([1,2,5,8,6,9,7,4,1,4,2,3])\n",
        "print (b)\n",
        "print(b.shape)\n",
        "\n",
        "b1 = b.reshape(2,3,2)\n",
        "print(b1)\n",
        "print(b1.shape)"
      ],
      "metadata": {
        "colab": {
          "base_uri": "https://localhost:8080/"
        },
        "id": "1HmHjoCn4gj7",
        "outputId": "82a3e529-9056-4c55-95c3-6f983bbba1c2"
      },
      "execution_count": 20,
      "outputs": [
        {
          "output_type": "stream",
          "name": "stdout",
          "text": [
            "[1 2 5 8 6 9 7 4 1 4 2 3]\n",
            "(12,)\n",
            "[[[1 2]\n",
            "  [5 8]\n",
            "  [6 9]]\n",
            "\n",
            " [[7 4]\n",
            "  [1 4]\n",
            "  [2 3]]]\n",
            "(2, 3, 2)\n"
          ]
        }
      ]
    },
    {
      "cell_type": "markdown",
      "source": [
        "**Fill with Any Number**  \n",
        "If you want to have an aray filled with a specific value, then you can use np.full() method."
      ],
      "metadata": {
        "id": "sPVnj5tmrXbp"
      }
    },
    {
      "cell_type": "code",
      "source": [
        "print(np.full((3,3), 14)) # ---> output : [[14 14 14]\n",
        "#                                          [14 14 14]\n",
        "#                                          [14 14 14]]\n"
      ],
      "metadata": {
        "colab": {
          "base_uri": "https://localhost:8080/"
        },
        "id": "urqxi3Y6rXDG",
        "outputId": "2dd64e46-b3e5-4dad-96a1-e59b591a44f6"
      },
      "execution_count": 21,
      "outputs": [
        {
          "output_type": "stream",
          "name": "stdout",
          "text": [
            "[[14 14 14]\n",
            " [14 14 14]\n",
            " [14 14 14]]\n"
          ]
        }
      ]
    },
    {
      "cell_type": "markdown",
      "source": [
        "**Fill Like**\n",
        "If you want to have an array with a specific value and you want it to be of same shape as some other array, then you can use np.full_like() method."
      ],
      "metadata": {
        "id": "JtGFhiW6rp9Y"
      }
    },
    {
      "cell_type": "code",
      "source": [
        "# Any other number (full_like)\n",
        "print(np.full_like(a, 4)) # ---> output : [[4 4 4 4 4 4 4]\n",
        "#                                          [4 4 4 4 4 4 4]]\n",
        "#This method takes the shape of the mentioned array and a value, then it creates a new array of the same shape with the given value."
      ],
      "metadata": {
        "colab": {
          "base_uri": "https://localhost:8080/"
        },
        "id": "okqIa5E-ruRP",
        "outputId": "f5249fa1-a47d-4909-aed7-3d5ef0b7bc54"
      },
      "execution_count": 22,
      "outputs": [
        {
          "output_type": "stream",
          "name": "stdout",
          "text": [
            "[[4 4 4]\n",
            " [4 4 4]]\n"
          ]
        }
      ]
    },
    {
      "cell_type": "markdown",
      "source": [
        "**Copy Array**"
      ],
      "metadata": {
        "id": "8Bbtaa40ryTY"
      }
    },
    {
      "cell_type": "code",
      "source": [
        "a = [1,2,3]             # created an array a\n",
        "b = [10,20,30]          # created an array b\n",
        "print(a)                # output : [1 2 3]\n",
        "a = b                   # I'll explain it below\n",
        "b[1] = 200              # changed b's 2nd element's value to 200\n",
        "print(a)                # output : [10 200 30] HOW??????\n"
      ],
      "metadata": {
        "colab": {
          "base_uri": "https://localhost:8080/"
        },
        "id": "XXrd7B6Gr3If",
        "outputId": "f24b292f-24d5-4a8f-ba9a-d84175d25321"
      },
      "execution_count": 23,
      "outputs": [
        {
          "output_type": "stream",
          "name": "stdout",
          "text": [
            "[1, 2, 3]\n",
            "[10, 200, 30]\n"
          ]
        }
      ]
    },
    {
      "cell_type": "markdown",
      "source": [
        "Let’s first understand what happened here : a = b.\n",
        "Here, the values of b didn’t get copied to a, instead a starts to point to b which in-turn changes the values of a but the catch is that whenever you’ll change something in b the same will reflect on a."
      ],
      "metadata": {
        "id": "NCYLwBhOsCBf"
      }
    },
    {
      "cell_type": "markdown",
      "source": [
        "**Stacking Arrays**  \n",
        "If you want to stack multiple arrays vertically or horizontally, you can use vstack() method or hstack() method respectively."
      ],
      "metadata": {
        "id": "8I_PDcSAsFjt"
      }
    },
    {
      "cell_type": "code",
      "source": [
        "# Vertically stacking vectors\n",
        "v1 = np.array([1,2,3,4])                # created array v1\n",
        "v2 = np.array([5,6,7,8])                # create array v2\n",
        "\n",
        "np.vstack([v1,v2,v1,v2])                # output : [[1 2 3 4]\n",
        "                                        #           [5 6 7 8]\n",
        "                                        #           [1 2 3 4]\n",
        "                                        #           [5 6 7 8]]\n",
        "print(np.hstack([v1,v2]))               # output : [1 2 3 4 5 6 7 8]"
      ],
      "metadata": {
        "colab": {
          "base_uri": "https://localhost:8080/"
        },
        "id": "fKl92wnesD1i",
        "outputId": "44bcb340-82b8-4d2a-9a2c-5a968a1de2ae"
      },
      "execution_count": 24,
      "outputs": [
        {
          "output_type": "stream",
          "name": "stdout",
          "text": [
            "[1 2 3 4 5 6 7 8]\n"
          ]
        }
      ]
    },
    {
      "cell_type": "markdown",
      "source": [
        "**Aggregate Functions**"
      ],
      "metadata": {
        "id": "Hvi-_VP7sWKE"
      }
    },
    {
      "cell_type": "code",
      "source": [
        "a = np.array([1, 2, 3])\n",
        "print(a.sum())                               # sum of all values of a\n",
        "print(a.max())                               # max of all elements of a\n",
        "print(a.mean())                              # return mean of a\n",
        "print(np.median(a))                          # return median of a\n",
        "print(np.std(a))                             # return standard deviation of a\n"
      ],
      "metadata": {
        "colab": {
          "base_uri": "https://localhost:8080/"
        },
        "id": "zf4M0wvIsjpJ",
        "outputId": "824cde74-17bc-45a5-c1bd-2b363593169e"
      },
      "execution_count": 25,
      "outputs": [
        {
          "output_type": "stream",
          "name": "stdout",
          "text": [
            "6\n",
            "3\n",
            "2.0\n",
            "2.0\n",
            "0.816496580927726\n"
          ]
        }
      ]
    }
  ]
}