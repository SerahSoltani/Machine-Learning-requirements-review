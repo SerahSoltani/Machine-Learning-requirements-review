{
  "nbformat": 4,
  "nbformat_minor": 0,
  "metadata": {
    "colab": {
      "provenance": []
    },
    "kernelspec": {
      "name": "python3",
      "display_name": "Python 3"
    },
    "language_info": {
      "name": "python"
    }
  },
  "cells": [
    {
      "cell_type": "code",
      "execution_count": null,
      "metadata": {
        "id": "6SGoqbhRJvss"
      },
      "outputs": [],
      "source": [
        "Import pandas as pd\n",
        "# Load the Pandas library as custom defined name pd"
      ]
    },
    {
      "cell_type": "code",
      "source": [
        "pd.__version__\n",
        "#Check the Pandas version"
      ],
      "metadata": {
        "id": "K6BlaD_SKC3y"
      },
      "execution_count": null,
      "outputs": []
    },
    {
      "cell_type": "markdown",
      "source": [
        "Pandas Read and Write to CSV\n"
      ],
      "metadata": {
        "id": "DnarPXbKKCWJ"
      }
    },
    {
      "cell_type": "code",
      "source": [
        "pd.read_csv('xyz.csv')     #Read the .csv file\n",
        "df.to_csv('xyz.csv')      #Save the Pandas data frame as “xyz.csv” form in the current folder"
      ],
      "metadata": {
        "id": "Be2UQzFRKKVk"
      },
      "execution_count": null,
      "outputs": []
    },
    {
      "cell_type": "code",
      "source": [
        "pd.ExcelFile('xyz.xls' )\n",
        "pd.read_excel(file, 'Sheet1')\n",
        "#\tRead the Sheet1 of the Excel file ‘xyz.xls’"
      ],
      "metadata": {
        "id": "aAVG8TyuKXXF"
      },
      "execution_count": null,
      "outputs": []
    },
    {
      "cell_type": "code",
      "source": [
        "df.to_excel('xyz.xlsx', sheet_name='Sheet1')\n",
        "#\tSave the dataset to xyz.xlsx as Sheet1"
      ],
      "metadata": {
        "id": "kVtckrbVKalM"
      },
      "execution_count": null,
      "outputs": []
    },
    {
      "cell_type": "code",
      "source": [
        "pd.read_json('xyz.json')\n",
        "#Read the xyz.json file"
      ],
      "metadata": {
        "id": "j90F42QAKfWq"
      },
      "execution_count": null,
      "outputs": []
    },
    {
      "cell_type": "code",
      "source": [
        "pd.read_sql('xyz.sql')\n",
        "#Read the xyz.sql file"
      ],
      "metadata": {
        "id": "nSn6HWPyKkCl"
      },
      "execution_count": null,
      "outputs": []
    },
    {
      "cell_type": "code",
      "source": [
        "pd.read_html('xyz.html')\n",
        "#Read the xyz.html file"
      ],
      "metadata": {
        "id": "DBlQ63p-KnTI"
      },
      "execution_count": null,
      "outputs": []
    },
    {
      "cell_type": "markdown",
      "source": [
        "Create Pandas Series and Dataframe"
      ],
      "metadata": {
        "id": "eaI3RSTxKujJ"
      }
    },
    {
      "cell_type": "code",
      "source": [
        "pd.Series(data=Data)\n",
        "#Create a Pandas Series with Data like  {10: ‘DSA’, 20: ‘ML’, 30: ‘DS’}"
      ],
      "metadata": {
        "id": "4aRKJIjfKwgy"
      },
      "execution_count": null,
      "outputs": []
    },
    {
      "cell_type": "code",
      "source": [
        "pd.Series(data = ['Geeks','for','geeks'],\n",
        "                 index = ['A','B','C'])\n",
        "#Create a Pandas Series and add custom defined index"
      ],
      "metadata": {
        "id": "m8jj0NM1K3cj"
      },
      "execution_count": null,
      "outputs": []
    },
    {
      "cell_type": "code",
      "source": [
        "pd.DataFrame(data)\n",
        "#Create Pandas Data frame with Data like  {‘Fruits’: [‘Mango’, ‘Apple’, ‘Banana’, ‘Orange’], ‘Quantity’: [40, 20, 25, 10],‘Price’: [80, 100, 50, 70] }"
      ],
      "metadata": {
        "id": "6D0Dm5dtK8K9"
      },
      "execution_count": null,
      "outputs": []
    },
    {
      "cell_type": "code",
      "source": [
        "df.dtypes\n",
        "#Give Data types"
      ],
      "metadata": {
        "id": "gBwB-IMjjgll"
      },
      "execution_count": null,
      "outputs": []
    },
    {
      "cell_type": "code",
      "source": [
        "df.shape\n",
        "#Give shape of the data"
      ],
      "metadata": {
        "id": "i7aylrZejj6e"
      },
      "execution_count": null,
      "outputs": []
    },
    {
      "cell_type": "code",
      "source": [
        "df['Column_Name'].astype('int32')\n",
        "#Change the data type to integer 32 bit"
      ],
      "metadata": {
        "id": "e9-lUV1Gjnud"
      },
      "execution_count": null,
      "outputs": []
    },
    {
      "cell_type": "code",
      "source": [
        "df['Column_Name'].astype('str')\n",
        "#Change the data type to string"
      ],
      "metadata": {
        "id": "aXoz_ijijrZO"
      },
      "execution_count": null,
      "outputs": []
    },
    {
      "cell_type": "code",
      "source": [
        "df['Column_Name'].astype('float')\n",
        "#Change the data type to float"
      ],
      "metadata": {
        "id": "wZWO5zRrju2t"
      },
      "execution_count": null,
      "outputs": []
    },
    {
      "cell_type": "code",
      "source": [
        "df.info()\n",
        "#Check the data information"
      ],
      "metadata": {
        "id": "yALGjBqcjyh3"
      },
      "execution_count": null,
      "outputs": []
    },
    {
      "cell_type": "code",
      "source": [
        "df.values\n",
        "#Give the data into the NumPy array"
      ],
      "metadata": {
        "id": "nmJ8NRrsj2eb"
      },
      "execution_count": null,
      "outputs": []
    },
    {
      "cell_type": "markdown",
      "source": [
        "Pandas Sorting, Reindexing, Renaming, Reshaping, Dropping"
      ],
      "metadata": {
        "id": "Pk9_IA9QkAnp"
      }
    },
    {
      "cell_type": "markdown",
      "source": [
        "Sorting by values"
      ],
      "metadata": {
        "id": "YKo_R0FpkY2S"
      }
    },
    {
      "cell_type": "code",
      "source": [
        "df.sort_values('Price', ascending=True)\n",
        "#Sort the values of ‘Price’ of data frame df in Ascending order"
      ],
      "metadata": {
        "id": "7e_8l5-6j6yE"
      },
      "execution_count": null,
      "outputs": []
    },
    {
      "cell_type": "code",
      "source": [
        "df.sort_values('Price', ascending=False)\n",
        "#Sort the values of ‘Price’ of data frame df in Descending order"
      ],
      "metadata": {
        "id": "qGXd2SGhkQI_"
      },
      "execution_count": null,
      "outputs": []
    },
    {
      "cell_type": "markdown",
      "source": [
        "Sorting by Index"
      ],
      "metadata": {
        "id": "iqrJKZBSka1i"
      }
    },
    {
      "cell_type": "code",
      "source": [
        "df.sort_index(ascending=False)\n",
        "#Sort the index of data frame df in Descending order"
      ],
      "metadata": {
        "id": "fmQEyD-LkXFw"
      },
      "execution_count": null,
      "outputs": []
    },
    {
      "cell_type": "markdown",
      "source": [
        "Reindexing"
      ],
      "metadata": {
        "id": "Q1tsdinTkl5t"
      }
    },
    {
      "cell_type": "code",
      "source": [
        "df.reset_index(drop=True, inplace=True)\n",
        "#Reset the indexes to default\n",
        "#inplace = True # make changes to the original data frame\n",
        "#drop = True # Drop the initial indexes, if False then the previous index is assigned in a column."
      ],
      "metadata": {
        "id": "Fx12f4XWkmpR"
      },
      "execution_count": null,
      "outputs": []
    },
    {
      "cell_type": "markdown",
      "source": [
        "Renaming"
      ],
      "metadata": {
        "id": "4JrHtlD3kwp4"
      }
    },
    {
      "cell_type": "code",
      "source": [
        "df.rename(columns={'Fruits': 'FRUITS','Quantity': 'QUANTITY','Price': 'PRICE'},inplace=True)\n",
        "#Rename the column name with its respective values: In the given code ‘Fruits’ will be replaced by ‘FRUITS’, ‘Quantity’ will be replaced ‘QUANTITY’ and ‘Price’ will be replaced by ‘PRICE’"
      ],
      "metadata": {
        "id": "sFFIT7gQkyOL"
      },
      "execution_count": null,
      "outputs": []
    },
    {
      "cell_type": "markdown",
      "source": [
        "Reshaping"
      ],
      "metadata": {
        "id": "LXxh1nqpk873"
      }
    },
    {
      "cell_type": "code",
      "source": [
        "pd.melt(df)   #Gather columns into rows"
      ],
      "metadata": {
        "id": "N43pedhNk-om"
      },
      "execution_count": null,
      "outputs": []
    },
    {
      "cell_type": "code",
      "source": [
        "pivot = df.pivot(columns='FRUITS',values=['PRICE', 'QUANTITY'])\n",
        "#Create a Pivot Table"
      ],
      "metadata": {
        "id": "HDwBDitFlCqP"
      },
      "execution_count": null,
      "outputs": []
    },
    {
      "cell_type": "markdown",
      "source": [
        " Dropping"
      ],
      "metadata": {
        "id": "qVS1aoLLlJip"
      }
    },
    {
      "cell_type": "code",
      "source": [
        "df1 = df.drop(columns=['QUANTITY'], axis=1)\n",
        "#Drop Column Drop the ‘QUANTITY’ from the data frame df, Here axis = 1 is for the column."
      ],
      "metadata": {
        "id": "-CLMZklRlLGg"
      },
      "execution_count": null,
      "outputs": []
    },
    {
      "cell_type": "code",
      "source": [
        "df2 = df.drop([1, 3], axis=0)\n",
        "#Drop Rows Drop 2nd and 4th rows of data frame df, Here axis = 0 is for row"
      ],
      "metadata": {
        "id": "kBoQwyzElLE4"
      },
      "execution_count": null,
      "outputs": []
    },
    {
      "cell_type": "markdown",
      "source": [
        "Dataframe Retrieving Series/DataFrame Information and Slicing"
      ],
      "metadata": {
        "id": "6fV6JhG-lXFF"
      }
    },
    {
      "cell_type": "markdown",
      "source": [
        "Observation"
      ],
      "metadata": {
        "id": "ePj8GQaklZfo"
      }
    },
    {
      "cell_type": "code",
      "source": [
        "df.head()\n",
        "#Print the first 5 rows\n",
        "df.tail()\n",
        "#Print the last 5 rows\n",
        "df.sample(n)\n",
        "#Select randomly n rows from the data frame df and print it.\n",
        "df.nlargest(2, 'QUANTITY')\n",
        "#Select the largest top 2 rows of the numerical column name ‘QUANTITY’ by its values.\n",
        "df.nsmallest(2, 'QUANTITY')\n",
        "#Select the smallest 2 rows of the numerical column name ‘QUANTITY’ by its values.\n",
        "df[df.PRICE > 50]\n",
        "#Select the rows having ‘PRICE’ values > 50"
      ],
      "metadata": {
        "id": "Qiy9t5GzlLDJ"
      },
      "execution_count": null,
      "outputs": []
    },
    {
      "cell_type": "markdown",
      "source": [
        "Selection Column data"
      ],
      "metadata": {
        "id": "QBrVdceMl0H4"
      }
    },
    {
      "cell_type": "code",
      "source": [
        "df['FRUITS']\n",
        "#Select a single column value with the name of the column I.E ‘FRUITS’\n",
        "df[['FRUITS', 'PRICE']]\n",
        "#Select more than one column with its name.\n",
        "df.filter(regex='F|Q')\n",
        "#Select the column whose names match the patterns of the respective regular expression I.E ‘FRUITS’ & ‘QUANTITY’"
      ],
      "metadata": {
        "id": "NwB40j2VlLBQ"
      },
      "execution_count": null,
      "outputs": []
    },
    {
      "cell_type": "markdown",
      "source": [
        "Getting Subsets of rows or columns"
      ],
      "metadata": {
        "id": "Mblsz6w5l9KG"
      }
    },
    {
      "cell_type": "code",
      "source": [
        "df.loc[:, 'FRUITS':'PRICE']\n",
        "#Select all the columns between Fruits and Price\n",
        "\n",
        "df.loc[df['PRICE'] < 70, ['FRUITS', 'PRICE']]\n",
        "#Select FRUITS name having PRICE <70\n",
        "\n",
        "df.iloc[2:5]\n",
        "#Select 2 to 5 rows\n",
        "\n",
        "df.iloc[:, [0, 2]]\n",
        "#Select the columns having 0th & 2nd positions\n",
        "\n",
        "df.at[1, 'PRICE']\n",
        "#Select Single PRICE value at 2nd row of the ‘PRICE’ column\n",
        "\n",
        "df.iat[1, 2]\n",
        "#Select the single values by their position i.e at the 2nd row and 3rd column."
      ],
      "metadata": {
        "id": "MDed4vCflK_Z"
      },
      "execution_count": null,
      "outputs": []
    },
    {
      "cell_type": "markdown",
      "source": [
        "Filter"
      ],
      "metadata": {
        "id": "ouHup6-jmLvU"
      }
    },
    {
      "cell_type": "code",
      "source": [
        "df.filter(items=['FRUITS', 'PRICE'])\n",
        "#Filter by column name:Select the ‘FRUITS’ and ‘PRICE’ column of the data frame\n",
        "\n",
        "df.filter(items=[3], axis=0)\n",
        "#Filter by row index:Select the 3rd row of the data frame,Here axis = 0 is for row\n",
        "\n",
        "df['PRICE'].where(df['PRICE'] > 50)\n",
        "#Returns a new Series object with the same length as the original ‘PRICE’ column.\n",
        "#But where() function will replace values where the condition is False with NaN (missing value) or another specified value.\n",
        "\n",
        "df.query('PRICE>70')\n",
        "#Filter a DataFrame based on a specified condition Return the rows having PRICE > 70"
      ],
      "metadata": {
        "id": "B00H69gwlK9p"
      },
      "execution_count": null,
      "outputs": []
    },
    {
      "cell_type": "markdown",
      "source": [
        "Combine Two data sets:"
      ],
      "metadata": {
        "id": "vxmelFlOn6St"
      }
    },
    {
      "cell_type": "code",
      "source": [
        "pd.merge(df1, df2, how='left', on='Fruits')\n",
        "#Left Join: Merge the two data frames df1 and df2 based on the ‘Fruits’ column of the left data frame i.e df1\n",
        "\n",
        "pd.merge(df1, df2, how='right', on='Fruits')\n",
        "#Right Join: Merge the two data frames df1 and df2 based on the ‘Fruits’ column of the right data frame i.e df2\n",
        "\n",
        "pd.merge(df1, df2, how='inner', on='Fruits')\n",
        "#Inner Join: Merge the two data frames df1 and df2 based on the common ‘Fruits’ name of both data frame\n",
        "\n",
        "pd.merge(df1, df2, how='outer', on='Fruits')\n",
        "#Outer Join: Merge the two data frames df1 and df2 based on the common ‘Fruits’ name,In this case ‘Fruits’ of both data frames will be arranged accordingly"
      ],
      "metadata": {
        "id": "MlmSK43vlK7q"
      },
      "execution_count": null,
      "outputs": []
    },
    {
      "cell_type": "markdown",
      "source": [
        "Concatenation"
      ],
      "metadata": {
        "id": "huTL5pBeo2Sx"
      }
    },
    {
      "cell_type": "code",
      "source": [
        "concat_df = pd.concat([df, df1], axis=0, ignore_index=True)\n",
        "#Row-Wise Concatenation: axis = 0 : denotes that the data frame df and df1 will join vertically\n",
        "#Ignore_index = True : ensures that the resulting DataFrame has a new index, starting from zero and incrementing sequentially\n",
        "#concat_df has the rows of df followed by df1\n",
        "\n",
        "concat_df = pd.concat([df, df2], axis=1)\n",
        "#Row-Wise Concatenation: axis = 1 : denotes that the data frame df and df1 will join horizontally\n",
        "#concat_df has the column of df followed by df2,\n",
        "#If the lengths of the DataFrames don’t match, NaN values will be assigned to the missing elements."
      ],
      "metadata": {
        "id": "LSwytyCKlK54"
      },
      "execution_count": null,
      "outputs": []
    },
    {
      "cell_type": "markdown",
      "source": [
        "Data Analysis:"
      ],
      "metadata": {
        "id": "5X8CxbK5pPcW"
      }
    },
    {
      "cell_type": "code",
      "source": [
        "#Describe dataset\n",
        "df.describe()\n",
        "#Descriptive statistics of a data frame\n",
        "#Return:\n",
        "#count: Number of rows for each numerical column\n",
        "#mean: Average values of each numerical column\n",
        "#std: Standard deviation of each numerical column\n",
        "#min: Minimum value of each numerical column 25%, 50%, 75%: 25, 50 & 75 percentile of each numerical column\n",
        "#max: Maximum values of each numerical column\n",
        "\n",
        "df.describe(include=['O'])\n",
        "#Descriptive statistics of Object data types of the data frame:\n",
        "#include =[‘O’] : Signifies the Object data types column\n",
        "#count: Number of rows for each object datatypes column\n",
        "#unique: Count of unique values for each object datatypes column\n",
        "#top: Top row value each object datatypes column\n",
        "#freq: Frequecy of the unique value\n",
        "\n",
        "df.FRUITS.unique()\n",
        "#Check the unique values of ‘FRUITS’ column in the dataset\n",
        "\n",
        "df.FRUITS.value_counts()\n",
        "#Frequency the unique values in ‘FRUITS’ column\n",
        "\n",
        "df['PRICE'].sum()\n",
        "#Return the sum of ‘PRICE’\n",
        "\n",
        "df['PRICE'].cumsum()\n",
        "#Return the cumulative sum of ‘PRICE’ values\n",
        "\n",
        "df['PRICE'].min()\n",
        "#Return the minimum value of ‘PRICE’ column\n",
        "\n",
        "df['PRICE'].max()\n",
        "#Return the maximum value of ‘PRICE’ column\n",
        "\n",
        "df['PRICE'].mean()\n",
        "#Return the mean value of ‘PRICE’ column\n",
        "\n",
        "df['PRICE'].median()\n",
        "#Return the median value of ‘PRICE’ column\n",
        "\n",
        "df['PRICE'].var()\n",
        "#Return the variance value of ‘PRICE’ column\n",
        "\n",
        "df['PRICE'].std()\n",
        "#Return the standard deviation value of ‘PRICE’ column\n",
        "\n",
        "df['PRICE'].quantile([0.25, 0.75])\n",
        "#Return the 25 and 75  percentile value of ‘PRICE’ column\n",
        "\n",
        "df.apply(summation)\n",
        "#Apply any custom function with pandas:\n",
        "#def summation(col):\n",
        "    #if col.dtypes != 'int64':\n",
        "        #return col.count()\n",
        "    #else:\n",
        "        #return col.sum()\n",
        "\n",
        "df.cov(numeric_only=True)\n",
        "#Compute the Covariance for numerical columns\n",
        "\n",
        "df.corr(numeric_only=True)\n",
        "#Compute the Correlation for numerical columns"
      ],
      "metadata": {
        "id": "f90AXxDMlK30"
      },
      "execution_count": null,
      "outputs": []
    },
    {
      "cell_type": "markdown",
      "source": [
        "Missing Values"
      ],
      "metadata": {
        "id": "tzb9SCA6pUrP"
      }
    },
    {
      "cell_type": "code",
      "source": [
        "df.isnull()\n",
        "#Check for null values\n",
        "#Return True or False, Having True means data is missing\n",
        "\n",
        "df.isnull().sum()\n",
        "#Return the row-wise count of null values\n",
        "\n",
        "df['DISCOUNT'] = df['DISCOUNT'].fillna(value=VALUE)\n",
        "#Fill the null values with the specified values ‘VALUE’. The value can be Mean, median, mode or any specified value.\n",
        "\n",
        "df1 = df.dropna()\n",
        "#Drop the null values"
      ],
      "metadata": {
        "id": "rdGkVEEslK1w"
      },
      "execution_count": null,
      "outputs": []
    },
    {
      "cell_type": "markdown",
      "source": [
        "Add a new  column to the Data frame"
      ],
      "metadata": {
        "id": "9VLQAzh3pZcn"
      }
    },
    {
      "cell_type": "code",
      "source": [
        "df['COL_NAME'] = COL_DATA\n",
        "#Add a column to the Existing dataset\n",
        "#Note: The length of COL_DATA should be equal to the number of rows of existing dataset\n",
        "\n",
        "df = df.assign(Paid_Price=lambda df:\n",
        "              (df.QUANTITY * df.PRICE))\n",
        "#Add a column using the existing columns values"
      ],
      "metadata": {
        "id": "kh_OHxJClK0B"
      },
      "execution_count": null,
      "outputs": []
    },
    {
      "cell_type": "markdown",
      "source": [
        "Group By"
      ],
      "metadata": {
        "id": "AkNx7C9RpfEu"
      }
    },
    {
      "cell_type": "code",
      "source": [
        "grouped = df.groupby(by='COL_NAME')\n",
        "#Group the dataframe w.r.t unique values of the specified column Name i.e ‘COL_NAME’\n",
        "\n",
        "grouped.agg(['count','sum', 'mean'])\n",
        "#Return the count, sum and mean value as per grouped of column i.e ‘COL_NAME’"
      ],
      "metadata": {
        "id": "3UOl7aMylKx7"
      },
      "execution_count": null,
      "outputs": []
    },
    {
      "cell_type": "markdown",
      "source": [
        "Graph with Pandas"
      ],
      "metadata": {
        "id": "97M2HGSGpiZV"
      }
    },
    {
      "cell_type": "code",
      "source": [
        "grouped = df.groupby(['Origin'])\n",
        "grouped.sum().plot.pie(y='Paid_Price', subplots=True)\n",
        "#Pie Chart: Plot the Pie Chart showing group by sum of values in ‘Paid_Price’ as per group of  ‘Origin’\n",
        "\n",
        "df.plot.scatter(x='PRICE', y='DISCOUNT')\n",
        "#Scatter Plot: Scatter Plot between ‘PRICE’ and ‘DISCOUNT’\n",
        "\n",
        "df.plot.bar(x='FRUITS', y=['QUANTITY', 'PRICE', 'DISCOUNT'])\n",
        "#Bar Chart: Bar chart having horizontal axis with Fruit Names and the respective ‘QUANTITY,’PRICE’ and ‘DISCOUNT’ values.\n",
        "\n",
        "df['QUANTITY'].plot.hist(bins=3)\n",
        "#Histogram Plot: Histogram plot of  ‘QUANTITY’ column with specified bins value i.e 3 here.\n",
        "\n",
        "df.boxplot(column='PRICE', grid=False)\n",
        "#Box Plot: Box plot of ‘PRICE’ column ,It is used for outlier detection"
      ],
      "metadata": {
        "id": "Ul04S2s0lKt7"
      },
      "execution_count": null,
      "outputs": []
    },
    {
      "cell_type": "code",
      "source": [],
      "metadata": {
        "id": "__YLJif3lKr0"
      },
      "execution_count": null,
      "outputs": []
    },
    {
      "cell_type": "code",
      "source": [],
      "metadata": {
        "id": "kju6IPZ-lKpV"
      },
      "execution_count": null,
      "outputs": []
    },
    {
      "cell_type": "code",
      "source": [],
      "metadata": {
        "id": "Hy1xp1AFlKIZ"
      },
      "execution_count": null,
      "outputs": []
    }
  ]
}